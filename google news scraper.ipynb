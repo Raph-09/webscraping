{
 "cells": [
  {
   "cell_type": "code",
   "execution_count": 65,
   "metadata": {},
   "outputs": [],
   "source": [
    "import re\n",
    "import requests\n",
    "import csv\n",
    "from bs4 import BeautifulSoup as bs"
   ]
  },
  {
   "cell_type": "code",
   "execution_count": 66,
   "metadata": {},
   "outputs": [],
   "source": [
    "temp = \"https://news.google.com/search?q={}\"\n",
    "url = temp.format('iphone 12')"
   ]
  },
  {
   "cell_type": "code",
   "execution_count": 67,
   "metadata": {},
   "outputs": [],
   "source": [
    "headers={'accept': 'text/html,application/xhtml+xml,application/xml;q=0.9,image/webp,image/apng,*/*;q=0.8,application/signed-exchange;v=b3;q=0.9',\n",
    "'accept-encoding': 'gzip, deflate, br',\n",
    "'accept-language': 'en-US,en;q=0.9',\n",
    "'cache-control': 'max-age=0',\n",
    "'cookie': 'HSID=AO0_ClYByuOhj_oGG; SSID=AjmfyLL0UPsrivOQT; APISID=mhtGTt_2lGetaovl/AEfHkl1wEPly73zll; SAPISID=-aMPhvraHEj1fvTz/Ac9rfCUUWAN62jlq-; __Secure-3PAPISID=-aMPhvraHEj1fvTz/Ac9rfCUUWAN62jlq-; SID=7gcdy405AptWyeTbykO4txLiwPNwNpxt_5yPm6AxftyypT9E9eUS2q7GqXkSuRtr9b9XYA.; __Secure-3PSID=7gcdy405AptWyeTbykO4txLiwPNwNpxt_5yPm6AxftyypT9EXLvEDrktmofdIl8dPMLMPw.; GN_PREF=W251bGwsIkNBSVNEQWpLOU1lQ0JoRFlsTmVfQXciXQo_; NID=211=n2KJIXvnESogX-nRGx3ycf5UPH2ibPfgx6WESVOA_BW28Z8WcEvQpnBp1Y8AuWrA4OqLUEEakKNbi6Bnpq1y7z-9AP3Mw7oChEpWysAg35Bx5mSiiWp6WQiB0w7QpkK2kTpdT3_xjBlsJAS7eaHkTs9YV30wdhCZVUcOs8sASDp35vVd1kAnuw; _ga=GA1.3.474000698.1615985173; _gid=GA1.3.1040222772.1615985173; OGPC=19015941-1:; 1P_JAR=2021-03-17-12; OTZ=5894686_52_52__52_; OGP=-19015941:; SIDCC=AJi4QfHK7cjQYwUREdIB4aQ7zOZpOB3kiIDAghNqpix5lsol29VtbvNZI_QVrEzPirsCJBf9_A; __Secure-3PSIDCC=AJi4QfFHCl7UcfxFdhDYyg_8zjNJLz6QojILdzvH_GxDLm5IMCtVebR-5UcygJw5lHgcKTCA'}"
   ]
  },
  {
   "cell_type": "code",
   "execution_count": 68,
   "metadata": {},
   "outputs": [],
   "source": [
    "response = requests.get(url,headers=headers)"
   ]
  },
  {
   "cell_type": "code",
   "execution_count": 69,
   "metadata": {},
   "outputs": [],
   "source": [
    "soup = bs(response.text,'html.parser')"
   ]
  },
  {
   "cell_type": "code",
   "execution_count": 70,
   "metadata": {},
   "outputs": [],
   "source": [
    "cards = soup.find_all('div', 'xrnccd')"
   ]
  },
  {
   "cell_type": "code",
   "execution_count": 71,
   "metadata": {},
   "outputs": [
    {
     "data": {
      "text/plain": [
       "100"
      ]
     },
     "execution_count": 71,
     "metadata": {},
     "output_type": "execute_result"
    }
   ],
   "source": [
    "len(cards)"
   ]
  },
  {
   "cell_type": "markdown",
   "metadata": {},
   "source": [
    "CREATE A PROTOTYPE MODEL"
   ]
  },
  {
   "cell_type": "code",
   "execution_count": 73,
   "metadata": {},
   "outputs": [],
   "source": [
    "card = cards[0]"
   ]
  },
  {
   "cell_type": "code",
   "execution_count": 75,
   "metadata": {},
   "outputs": [],
   "source": [
    "headlines = card.find('h3','ipQwMb ekueJc RD0gLb').text"
   ]
  },
  {
   "cell_type": "code",
   "execution_count": 77,
   "metadata": {},
   "outputs": [],
   "source": [
    "source = card.find('a','wEwyrc AVN2gc uQIVzc Sksgp').text"
   ]
  },
  {
   "cell_type": "code",
   "execution_count": 111,
   "metadata": {},
   "outputs": [],
   "source": [
    "time_date_posted = card.find('time','WW6dff uQIVzc Sksgp').text"
   ]
  },
  {
   "cell_type": "code",
   "execution_count": 141,
   "metadata": {},
   "outputs": [],
   "source": [
    "def get_news(card):\n",
    "    headlines = card.find('h3','ipQwMb ekueJc RD0gLb').text\n",
    "    source = card.find('a','wEwyrc AVN2gc uQIVzc Sksgp').text\n",
    "    time_date_posted = card.find('time','WW6dff uQIVzc Sksgp').text\n",
    "    article = (headlines,source,time_date_posted)\n",
    "    return articles"
   ]
  },
  {
   "cell_type": "code",
   "execution_count": 142,
   "metadata": {},
   "outputs": [],
   "source": [
    "articles = []\n",
    "for card in cards:\n",
    "    article = get_news(card)\n",
    "    articles.append(article)"
   ]
  },
  {
   "cell_type": "code",
   "execution_count": 144,
   "metadata": {},
   "outputs": [
    {
     "data": {
      "text/plain": [
       "('Apple wants you to try to wreck your iPhone 12', 'ZDNet', '23 hours ago')"
      ]
     },
     "execution_count": 144,
     "metadata": {},
     "output_type": "execute_result"
    }
   ],
   "source": []
  },
  {
   "cell_type": "code",
   "execution_count": 163,
   "metadata": {},
   "outputs": [],
   "source": [
    "import re\n",
    "import requests\n",
    "import csv\n",
    "from bs4 import BeautifulSoup as bs\n",
    "from datetime import datetime\n",
    "\n",
    "headers={'accept': 'text/html,application/xhtml+xml,application/xml;q=0.9,image/webp,image/apng,*/*;q=0.8,application/signed-exchange;v=b3;q=0.9',\n",
    "'accept-encoding': 'gzip, deflate, br',\n",
    "'accept-language': 'en-US,en;q=0.9',\n",
    "'cache-control': 'max-age=0',\n",
    "'cookie': 'HSID=AO0_ClYByuOhj_oGG; SSID=AjmfyLL0UPsrivOQT; APISID=mhtGTt_2lGetaovl/AEfHkl1wEPly73zll; SAPISID=-aMPhvraHEj1fvTz/Ac9rfCUUWAN62jlq-; __Secure-3PAPISID=-aMPhvraHEj1fvTz/Ac9rfCUUWAN62jlq-; SID=7gcdy405AptWyeTbykO4txLiwPNwNpxt_5yPm6AxftyypT9E9eUS2q7GqXkSuRtr9b9XYA.; __Secure-3PSID=7gcdy405AptWyeTbykO4txLiwPNwNpxt_5yPm6AxftyypT9EXLvEDrktmofdIl8dPMLMPw.; GN_PREF=W251bGwsIkNBSVNEQWpLOU1lQ0JoRFlsTmVfQXciXQo_; NID=211=n2KJIXvnESogX-nRGx3ycf5UPH2ibPfgx6WESVOA_BW28Z8WcEvQpnBp1Y8AuWrA4OqLUEEakKNbi6Bnpq1y7z-9AP3Mw7oChEpWysAg35Bx5mSiiWp6WQiB0w7QpkK2kTpdT3_xjBlsJAS7eaHkTs9YV30wdhCZVUcOs8sASDp35vVd1kAnuw; _ga=GA1.3.474000698.1615985173; _gid=GA1.3.1040222772.1615985173; OGPC=19015941-1:; 1P_JAR=2021-03-17-12; OTZ=5894686_52_52__52_; OGP=-19015941:; SIDCC=AJi4QfHK7cjQYwUREdIB4aQ7zOZpOB3kiIDAghNqpix5lsol29VtbvNZI_QVrEzPirsCJBf9_A; __Secure-3PSIDCC=AJi4QfFHCl7UcfxFdhDYyg_8zjNJLz6QojILdzvH_GxDLm5IMCtVebR-5UcygJw5lHgcKTCA'}\n",
    "\n",
    "def get_news(card):\n",
    "    headlines = card.find('h3','ipQwMb ekueJc RD0gLb').text\n",
    "    source = card.find('a','wEwyrc AVN2gc uQIVzc Sksgp').text\n",
    "    time_date_posted = card.find('time','WW6dff uQIVzc Sksgp').text\n",
    "    extracted_date = today = datetime.today().strftime('%y-%m-%d')\n",
    "    article = (headlines,source,time_date_posted,extracted_date)\n",
    "    return article\n",
    "def fetch_article(search):\n",
    "    temp = \"https://news.google.com/search?q={}\"\n",
    "    url = temp.format(search)\n",
    "    response = requests.get(url,headers=headers)\n",
    "    soup = bs(response.text,'html.parser')\n",
    "    cards = soup.find_all('div', 'xrnccd')\n",
    "     \n",
    "    articles = []\n",
    "    for card in cards:\n",
    "        article = get_news(card)\n",
    "        articles.append(article)\n",
    "    \n",
    " \n",
    "    with open('windowz_news.csv', 'w', newline='', encoding='utf-8') as f:\n",
    "        writer = csv.writer(f)\n",
    "        writer.writerow(['headlines','source','time_date_posted','extracted_date'])\n",
    "        writer.writerows(articles)\n",
    "    return articles "
   ]
  },
  {
   "cell_type": "code",
   "execution_count": 164,
   "metadata": {},
   "outputs": [],
   "source": [
    "windows = fetch_article('windows laptop')"
   ]
  },
  {
   "cell_type": "code",
   "execution_count": 153,
   "metadata": {},
   "outputs": [
    {
     "data": {
      "text/plain": [
       "[('Best Windows laptop for 2021', 'CNET', '13 days ago'),\n",
       " ('Windows Central Podcast 216: RIP Invoke, Surface Laptop 4, and more!',\n",
       "  'Windows Central',\n",
       "  'Yesterday'),\n",
       " ('Dell XPS 13 (9310) review: The gold standard in premium Windows laptops',\n",
       "  'The Indian Express',\n",
       "  '11 hours ago'),\n",
       " ('Microsoft Surface Laptop 3 is on sale for up to 30 percent off',\n",
       "  'PCWorld',\n",
       "  '18 hours ago'),\n",
       " ('How to run a battery life report on your Windows laptop',\n",
       "  'The Verge',\n",
       "  '12 days ago'),\n",
       " ('Windows 10 laptops could use some of the best smartphone tech to beat Apple’s M1 MacBooks',\n",
       "  'TechRadar',\n",
       "  'Yesterday'),\n",
       " ('Windows 8.1 Dell i7- 5500 Laptop Shuts Down Inexplicably - Windows 8 and Windows 8.1',\n",
       "  'BleepingComputer',\n",
       "  '12 hours ago'),\n",
       " ('Snapdragon SC7295 in the works, a mid-range chip for ARM laptops based on the S775 - comments',\n",
       "  'GSMArena.com',\n",
       "  '6 hours ago'),\n",
       " ('Why You Should Upgrade (or Retire) Your Windows 7 Computer',\n",
       "  'AARP',\n",
       "  '2 days ago'),\n",
       " (\"How to Check Your Laptop's Battery Health in Windows 10\",\n",
       "  'PCMag',\n",
       "  '9 days ago'),\n",
       " ('Apple MacBook vs. PC laptop', 'Chicago Tribune', '16 hours ago'),\n",
       " ('Microsoft Surface Laptop 4 reportedly includes AMD and Intel models',\n",
       "  'The Verge',\n",
       "  '9 days ago'),\n",
       " ('Find power hogs on your laptop with Windows Task Manager',\n",
       "  'Good Gear Guide',\n",
       "  '2 days ago'),\n",
       " ('How to get battery life report on Windows 10 laptops',\n",
       "  'Gadgets Now',\n",
       "  '3 days ago'),\n",
       " ('How to Install Windows 10 on your laptop computer', 'Digit', '14 days ago'),\n",
       " ('WhatsApp PC Video Call: How to Make Voice and Video Calls on WhatsApp for Windows or Mac',\n",
       "  'Gadgets 360',\n",
       "  '6 days ago'),\n",
       " ('New Surface Laptop 4 leak points to Microsoft using custom Renoir APUs with more powerful GPUs',\n",
       "  'Notebookcheck.net',\n",
       "  '24 Feb'),\n",
       " ('Deal Alert: Microsoft Surface Laptop 3 is $400 cheaper today - MSPoweruser',\n",
       "  'MSPoweruser',\n",
       "  '3 days ago'),\n",
       " ('Microsoft Surface Laptop Go review: The ‘affordable’ one',\n",
       "  'HT Tech',\n",
       "  '3 days ago'),\n",
       " ('How to Stop Windows 10 Apps From Launching at Startup',\n",
       "  'PCMag',\n",
       "  '6 days ago'),\n",
       " ('Laptop computer vs. Chromebook: What is the distinction and which works higher for you',\n",
       "  'The Shepherd of the Hills Gazette',\n",
       "  '56 minutes ago'),\n",
       " ('Laptop Bench Test: Dell Latitude 5410 - An upgrade in mediocrity? - Economy Class & Beyond',\n",
       "  'Kevin Marshall',\n",
       "  '31 minutes ago'),\n",
       " ('This ASUS laptop can get through a whole class on a 15-second charge',\n",
       "  'Windows Central',\n",
       "  '2 days ago'),\n",
       " ('Microsoft slashed $400 off the Surface Laptop 3 for its latest sale',\n",
       "  'Windows Central',\n",
       "  '16 days ago'),\n",
       " ('How to choose a Windows laptop – a guide for home and office use 2021',\n",
       "  'Gadgetguy.com.au',\n",
       "  '9 days ago'),\n",
       " ('This Mi Notebook is best selling i7 ultraslim Windows laptop online in 2020',\n",
       "  'ummid.com',\n",
       "  '8 days ago'),\n",
       " ('How to check if Windows laptop supports 2.4 or 5 GHz WiFi',\n",
       "  'TWCN Tech News',\n",
       "  '3 days ago'),\n",
       " ('Dell UltraSharp U2421E review: A killer 16:10 monitor and hub combo for laptop users',\n",
       "  'Windows Central',\n",
       "  '21 hours ago'),\n",
       " ('10 Best Laptops Under $600 In 2021, Ranked By Price | ScreenRant',\n",
       "  'Screen Rant',\n",
       "  '17 hours ago'),\n",
       " (\"Microsoft laptops can't match Apple in one crucial area, say customers\",\n",
       "  'ZDNet',\n",
       "  '19 Feb'),\n",
       " ('Lenovo ThinkPad X1 Extreme (Gen 3) review: 4G LTE and performance hardware upgrades improve a solid foundation',\n",
       "  'Windows Central',\n",
       "  '2 days ago'),\n",
       " ('Surface Laptop Go returns to its lowest price ever',\n",
       "  'Windows Central',\n",
       "  '23 Feb'),\n",
       " ('The HP Spectre x360 14 is a super-versatile laptop for every which way you work',\n",
       "  'British GQ',\n",
       "  '5 days ago'),\n",
       " ('Microsoft Teams update allows you to mute chatty colleagues',\n",
       "  'Laptop Mag',\n",
       "  '8 hours ago'),\n",
       " ('Microsoft bullish on enterprise demand for Surface; says business doubled in India',\n",
       "  'ETTelecom.com',\n",
       "  '6 hours ago'),\n",
       " ('Top Wireless Mouse for your laptop', 'Firstpost', '2 days ago'),\n",
       " ('Microsoft Surface Laptop Go 10th Gen Intel i5 Quad-Core review: Price in India, Features, Specs',\n",
       "  'BGR India',\n",
       "  '16 Feb'),\n",
       " ('AMD adds seven-nanometer Ryzen Pro 5000 processors for business laptops',\n",
       "  'SiliconANGLE News',\n",
       "  '16 hours ago'),\n",
       " ('Qualcomm Completes Nuvia Acquisition, Aims for Laptops',\n",
       "  'ExtremeTech',\n",
       "  '21 hours ago'),\n",
       " ('4 Great Deals From Best Buy’s 3-Day Microsoft Sale, From Surface Laptops To Xbox Games',\n",
       "  'Forbes',\n",
       "  '19 Feb'),\n",
       " ('Laptop involved in Phishing scam - Virus, Trojan, Spyware, and Malware Removal Help',\n",
       "  'BleepingComputer',\n",
       "  '3 days ago'),\n",
       " (\"Microsoft's excellent Surface Laptop 3 hits all-time low price of $769\",\n",
       "  'Laptop Mag',\n",
       "  '5 days ago'),\n",
       " (\"Microsoft Exchange email servers can now be protected with new one-click tool — here's how\",\n",
       "  'Laptop Mag',\n",
       "  '21 hours ago'),\n",
       " ('These are the best laptops to play GTA 5', 'Digit', '2 days ago'),\n",
       " ('Laptops with a really long battery life', 'Digit', '2 hours ago'),\n",
       " ('Qualcomm Completes Acquisition of NUVIA: Immediate focus on Laptops (Updated)',\n",
       "  'AnandTech',\n",
       "  '21 hours ago'),\n",
       " ('Avita Liber V review', 'TechRadar', '5 days ago'),\n",
       " ('System76 Launches Its New AMD-Powered Linux Laptop',\n",
       "  'MUO - MakeUseOf',\n",
       "  '12 hours ago'),\n",
       " ('Top 10 Best Latitude Business Laptops 2021 – Bestgamingpro',\n",
       "  'Best gaming pro',\n",
       "  '2 days ago'),\n",
       " ('Lenovo Legion 7i Gaming Laptop Review: A Top-Tier Gaming Machine',\n",
       "  'Gizbot',\n",
       "  '10 hours ago'),\n",
       " ('Microsoft Rumored To Be Getting Cozier With AMD For Surface Laptop 4 Release',\n",
       "  'OnMSFT',\n",
       "  '25 Feb'),\n",
       " ('The Best Gaming Laptops Under $500', 'Digital Trends', '6 days ago'),\n",
       " ('One thought on “How To Use a Laptop as a Desktop”', 'Alphr', '12 days ago'),\n",
       " ('Microsoft massive email hack: Ransomware now targeting Microsoft Exchange vulnerabilities',\n",
       "  'Laptop Mag',\n",
       "  '5 days ago'),\n",
       " ('Microsoft eyeing up Konami and Sega acquisitions to possibly invigorate waning Xbox console sales in Japan',\n",
       "  'Notebookcheck.net',\n",
       "  '3 days ago'),\n",
       " ('The Surface Pro 7 gets a massive $360 price cut in epic deal at Best Buy',\n",
       "  'TechRadar',\n",
       "  '4 days ago'),\n",
       " ('Microsoft could reveal a new webcam alongside the Surface Laptop 4 at upcoming spring event',\n",
       "  'TechSpot',\n",
       "  '7 days ago'),\n",
       " ('Dual Screen Laptops Market Projected to Witness Vigorous Expansion by 2028 | ASUSTeK Computer Inc., Microsoft, HP Development Company – Cabell Standard',\n",
       "  'Cabell Standard',\n",
       "  '2 hours ago'),\n",
       " ('RIP Xbox One TV: OneGuide gets turned off for good',\n",
       "  'Laptop Mag',\n",
       "  '2 days ago'),\n",
       " ('Notebook PC Market Boosting the Growth Worldwide: AMD, Apple, Intel, Microsoft – Jumbo News',\n",
       "  'Jumbo News',\n",
       "  '6 hours ago'),\n",
       " (\"Buying a new laptop? Here's what to look for to be sure it lasts\",\n",
       "  'TCPalm',\n",
       "  '23 Sept'),\n",
       " ('Huawei plans to bring its Windows 10 desktop PC outside China',\n",
       "  'HT Tech',\n",
       "  '6 days ago'),\n",
       " ('How to Turn a Windows Laptop Into a Desktop PC', 'How-To Geek', '6 Jan'),\n",
       " ('Best online laptop sales: $1,400+ off Dell and more',\n",
       "  'finder.com.au',\n",
       "  '5 days ago'),\n",
       " ('How to use and customize touchpad commands on your Windows laptop - Business Insider',\n",
       "  'Business Insider',\n",
       "  '26 Jan'),\n",
       " ('Best laptop in 2021', 'ZDNet', '25 Feb'),\n",
       " ('Kansas Jayhawk Notebook: Getting to Know Eastern Washington',\n",
       "  'Rock Chalk Talk',\n",
       "  'Yesterday'),\n",
       " ('Microsoft Surface Laptop Go review: missing the sweet spot',\n",
       "  'The Guardian',\n",
       "  '18 Dec'),\n",
       " ('Consumer guide: Laptops, from $200 to $1,000 and beyond',\n",
       "  'USA TODAY',\n",
       "  '9 Dec'),\n",
       " ('MacBooks vs Windows laptops: Which is best for you?', 'CNN', '11 Dec'),\n",
       " (\"Here's a back-to-school Windows 10 laptop for just $339 (Update: Expired)\",\n",
       "  'CNET',\n",
       "  '25 Aug 2020'),\n",
       " ('Best laptop deals: Save $300 on an MSI Prestige 14, $400 on a Microsoft Surface Laptop 3 and more',\n",
       "  'CNET',\n",
       "  '7 days ago'),\n",
       " ('How to switch an old Windows laptop to Linux', 'The Verge', '6 Nov'),\n",
       " ('Surface Laptop Go is a cheaper, smaller Microsoft laptop with a premium style',\n",
       "  'CNET',\n",
       "  '1 Oct'),\n",
       " ('Best cheap Windows 10 laptop under $350 in 2021', 'ZDNet', '6 days ago'),\n",
       " ('Best cheap laptop deals March 2021: Acer, Lenovo, Microsoft, and more',\n",
       "  'Windows Central',\n",
       "  '15 days ago'),\n",
       " ('Best Windows laptop 2021: the top Windows 10 laptops money can buy',\n",
       "  'TechRadar',\n",
       "  '22 Feb'),\n",
       " ('Microsoft launches Surface Laptop Go in India - Microsoft',\n",
       "  'Microsoft',\n",
       "  '21 Jan'),\n",
       " ('The best affordable Windows laptops you can buy', 'Engadget', '7 Aug 2020'),\n",
       " ('Surface Laptop Go review: a case study in cost cutting',\n",
       "  'The Verge',\n",
       "  '13 Oct'),\n",
       " ('Best Laptops in 2021 for Home, Office and Gaming', 'Observer', '28 Nov'),\n",
       " ('How to take screenshots on a laptop: 10 ways to do it on any Windows/ macOS-powered laptops',\n",
       "  '91mobiles',\n",
       "  '16 Dec'),\n",
       " ('How to migrate to a new Windows PC', 'Computerworld', '13 Nov'),\n",
       " ('Microsoft Launches Surface Laptop Go And Improves Windows 10 On ARM User Experience',\n",
       "  'Forbes',\n",
       "  '6 Oct'),\n",
       " ('Best Microsoft Surface Black Friday Deals (2020): Top Surface Pro, Laptop, Go & Book Sales Collated by The Consumer Post',\n",
       "  'GlobeNewswire',\n",
       "  '24 Nov'),\n",
       " ('Microsoft Surface Laptop Go review: Punchy feel',\n",
       "  'Economic Times',\n",
       "  '7 Feb'),\n",
       " ('Laptop vs. Chromebook: Which Type of Budget PC Is Right For You?',\n",
       "  'PCMag',\n",
       "  '4 Sept 2020'),\n",
       " ('Best budget laptop for under $350 in 2021', 'ZDNet', '8 Sept 2020'),\n",
       " ('Windows 10 laptops are dead to me – but can Intel change my mind?',\n",
       "  'TechRadar',\n",
       "  '14 Feb'),\n",
       " ('Surface Laptop 4: Specs, price, release date, everything we know',\n",
       "  'Windows Central',\n",
       "  '26 Jan'),\n",
       " ('Which Microsoft Surface is right for you?', 'CNN', '25 Jan'),\n",
       " ('A powerful laptop with an innovative modular design has been released by Kano',\n",
       "  'Microsoft',\n",
       "  '14 Jul 2020'),\n",
       " ('Best Prime Day 2020 deals on Chromebooks and Windows laptops',\n",
       "  'The Verge',\n",
       "  '14 Oct'),\n",
       " ('Microsoft Surface Laptop 4 to reportedly have AMD-powered models',\n",
       "  'gizmochina',\n",
       "  '11 Jan'),\n",
       " ('Best Microsoft Surface Black Friday Deals (2020): Best Early Surface Laptop, Pro, Book & Go Deals Reviewed by Retail Fuse',\n",
       "  'GlobeNewswire',\n",
       "  '20 Nov'),\n",
       " ('Microsoft may announce a new Surface Laptop tomorrow',\n",
       "  'The Verge',\n",
       "  '30 Sept'),\n",
       " ('Mac vs. PC: Which Laptop is Better for You?',\n",
       "  'Rolling Stone',\n",
       "  '28 Aug 2020'),\n",
       " ('These Laptops Have HD Webcams for Clearer-Looking Video Calls',\n",
       "  'Rolling Stone',\n",
       "  '28 Oct'),\n",
       " ('MacBook Air M1: Intel Readies Response For Windows Laptops',\n",
       "  'Forbes',\n",
       "  '6 Feb'),\n",
       " ('Buying A New Laptop For 2021? Here Are 5 Essentials To Look For',\n",
       "  'Forbes',\n",
       "  '24 Oct')]"
      ]
     },
     "execution_count": 153,
     "metadata": {},
     "output_type": "execute_result"
    }
   ],
   "source": [
    "windows"
   ]
  },
  {
   "cell_type": "code",
   "execution_count": 159,
   "metadata": {},
   "outputs": [],
   "source": [
    "extracted_date = today = datetime.today().strftime('%y-%m-%d')"
   ]
  },
  {
   "cell_type": "code",
   "execution_count": 160,
   "metadata": {},
   "outputs": [
    {
     "data": {
      "text/plain": [
       "'21-03-17'"
      ]
     },
     "execution_count": 160,
     "metadata": {},
     "output_type": "execute_result"
    }
   ],
   "source": [
    "extracted_date"
   ]
  },
  {
   "cell_type": "code",
   "execution_count": null,
   "metadata": {},
   "outputs": [],
   "source": []
  }
 ],
 "metadata": {
  "kernelspec": {
   "display_name": "Python 3",
   "language": "python",
   "name": "python3"
  },
  "language_info": {
   "codemirror_mode": {
    "name": "ipython",
    "version": 3
   },
   "file_extension": ".py",
   "mimetype": "text/x-python",
   "name": "python",
   "nbconvert_exporter": "python",
   "pygments_lexer": "ipython3",
   "version": "3.8.1"
  }
 },
 "nbformat": 4,
 "nbformat_minor": 4
}
