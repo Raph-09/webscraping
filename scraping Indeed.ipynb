{
 "cells": [
  {
   "cell_type": "code",
   "execution_count": 1,
   "metadata": {},
   "outputs": [],
   "source": [
    "import csv\n",
    "from datetime import datetime\n",
    "import requests\n",
    "from bs4 import BeautifulSoup as bs"
   ]
  },
  {
   "cell_type": "code",
   "execution_count": 2,
   "metadata": {},
   "outputs": [],
   "source": [
    "template = \"https://www.indeed.com/jobs?q={}&l={}\" "
   ]
  },
  {
   "cell_type": "code",
   "execution_count": 3,
   "metadata": {},
   "outputs": [],
   "source": [
    "def get_url(position,location):\n",
    "#     generate url from position and location\n",
    "    template = \"https://www.indeed.com/jobs?q={}&l={}\"\n",
    "    url = template.format(position,location)\n",
    "    return url"
   ]
  },
  {
   "cell_type": "code",
   "execution_count": 4,
   "metadata": {},
   "outputs": [],
   "source": [
    "url = get_url(\"Senior Accountant\",\"Charlotte, NC\")"
   ]
  },
  {
   "cell_type": "markdown",
   "metadata": {},
   "source": [
    "Extract raw html"
   ]
  },
  {
   "cell_type": "code",
   "execution_count": 5,
   "metadata": {},
   "outputs": [],
   "source": [
    "response = requests.get(url)"
   ]
  },
  {
   "cell_type": "code",
   "execution_count": 6,
   "metadata": {},
   "outputs": [
    {
     "data": {
      "text/plain": [
       "<Response [200]>"
      ]
     },
     "execution_count": 6,
     "metadata": {},
     "output_type": "execute_result"
    }
   ],
   "source": [
    "response"
   ]
  },
  {
   "cell_type": "code",
   "execution_count": 7,
   "metadata": {},
   "outputs": [
    {
     "data": {
      "text/plain": [
       "''"
      ]
     },
     "execution_count": 7,
     "metadata": {},
     "output_type": "execute_result"
    }
   ],
   "source": [
    "response.reason"
   ]
  },
  {
   "cell_type": "code",
   "execution_count": 8,
   "metadata": {},
   "outputs": [],
   "source": [
    "soup = bs(response.text,\"html.parser\")"
   ]
  },
  {
   "cell_type": "code",
   "execution_count": 9,
   "metadata": {},
   "outputs": [],
   "source": [
    "cards = soup.find_all(\"div\",\"jobsearch-SerpJobCard\")"
   ]
  },
  {
   "cell_type": "code",
   "execution_count": 10,
   "metadata": {},
   "outputs": [
    {
     "data": {
      "text/plain": [
       "10"
      ]
     },
     "execution_count": 10,
     "metadata": {},
     "output_type": "execute_result"
    }
   ],
   "source": [
    "len(cards)"
   ]
  },
  {
   "cell_type": "code",
   "execution_count": 11,
   "metadata": {},
   "outputs": [],
   "source": [
    "card = cards[0]"
   ]
  },
  {
   "cell_type": "code",
   "execution_count": 12,
   "metadata": {},
   "outputs": [],
   "source": [
    "atag = card.h2.a"
   ]
  },
  {
   "cell_type": "code",
   "execution_count": 13,
   "metadata": {},
   "outputs": [],
   "source": [
    "job_title = atag.get(\"title\")"
   ]
  },
  {
   "cell_type": "code",
   "execution_count": 14,
   "metadata": {},
   "outputs": [],
   "source": [
    "job_url = 'https://www.indeed.com'+atag.get('href')"
   ]
  },
  {
   "cell_type": "code",
   "execution_count": 15,
   "metadata": {},
   "outputs": [],
   "source": [
    "company = card.find('span','company').text.strip()"
   ]
  },
  {
   "cell_type": "code",
   "execution_count": 16,
   "metadata": {},
   "outputs": [],
   "source": [
    "job_location = card.find('div','recJobLoc').get('data-rc-loc')"
   ]
  },
  {
   "cell_type": "code",
   "execution_count": 17,
   "metadata": {},
   "outputs": [],
   "source": [
    "job_summary = card.find('div','summary').text.strip()"
   ]
  },
  {
   "cell_type": "code",
   "execution_count": 18,
   "metadata": {},
   "outputs": [],
   "source": [
    "post_date = card.find('span','date').text"
   ]
  },
  {
   "cell_type": "code",
   "execution_count": 19,
   "metadata": {},
   "outputs": [],
   "source": [
    "today = datetime.today().strftime('%y-%m-%d')"
   ]
  },
  {
   "cell_type": "code",
   "execution_count": 20,
   "metadata": {},
   "outputs": [],
   "source": [
    "try:\n",
    "    job_salary = card.find('span','salaryText').text.strip()\n",
    "except AttributeError:\n",
    "    job_salary=\"\""
   ]
  },
  {
   "cell_type": "markdown",
   "metadata": {},
   "source": [
    "Generalized the model with a function"
   ]
  },
  {
   "cell_type": "code",
   "execution_count": 21,
   "metadata": {},
   "outputs": [],
   "source": [
    "def get_record(card):\n",
    "    #extract job data from a single rcord\n",
    "    atag = card.h2.a\n",
    "    job_title = atag.get(\"title\")\n",
    "    job_url = 'https://www.indeed.com'+atag.get('href')\n",
    "    company = card.find('span','company').text.strip()\n",
    "    job_location = card.find('div','recJobLoc').get('data-rc-loc')\n",
    "    job_summary = card.find('div','summary').text.strip()\n",
    "    post_date = card.find('span','date').text\n",
    "    today = datetime.today().strftime('%y-%m-%d')\n",
    "    try:\n",
    "        job_salary = card.find('span','salaryText').text.strip()\n",
    "    except AttributeError:\n",
    "        job_salary=\"\"\n",
    "    record = (job_title,job_url,company,job_location,job_summary,post_date,today,job_salary)\n",
    "    return record"
   ]
  },
  {
   "cell_type": "code",
   "execution_count": 22,
   "metadata": {},
   "outputs": [],
   "source": [
    "records = []\n",
    "for card in cards:\n",
    "    record = get_record(card)\n",
    "    records.append(record)"
   ]
  },
  {
   "cell_type": "code",
   "execution_count": 23,
   "metadata": {},
   "outputs": [],
   "source": [
    "while True:\n",
    "    try:\n",
    "        url = 'https://www.indeed.com'+soup.find('a',{'aria-label':'Next'}).get('href')\n",
    "    except AttributeError:\n",
    "        break\n",
    "        \n",
    "    response = requests.get(url)\n",
    "    soup = bs(response.text,\"html.parser\")\n",
    "    cards = soup.find_all(\"div\",\"jobsearch-SerpJobCard\")\n",
    "    \n",
    "    for card in cards:\n",
    "        record = get_record(card)\n",
    "        records.append(record)"
   ]
  },
  {
   "cell_type": "code",
   "execution_count": 24,
   "metadata": {},
   "outputs": [
    {
     "data": {
      "text/plain": [
       "125"
      ]
     },
     "execution_count": 24,
     "metadata": {},
     "output_type": "execute_result"
    }
   ],
   "source": [
    "len(records)"
   ]
  },
  {
   "cell_type": "code",
   "execution_count": 26,
   "metadata": {},
   "outputs": [
    {
     "name": "stdout",
     "output_type": "stream",
     "text": [
      "\n"
     ]
    },
    {
     "ename": "NameError",
     "evalue": "name 'i' is not defined",
     "output_type": "error",
     "traceback": [
      "\u001b[1;31m---------------------------------------------------------------------------\u001b[0m",
      "\u001b[1;31mNameError\u001b[0m                                 Traceback (most recent call last)",
      "\u001b[1;32m<ipython-input-26-4a4ea477f9a7>\u001b[0m in \u001b[0;36m<module>\u001b[1;34m\u001b[0m\n\u001b[0;32m      1\u001b[0m \u001b[1;32mfor\u001b[0m \u001b[0mr\u001b[0m \u001b[1;32min\u001b[0m \u001b[0mrecords\u001b[0m\u001b[1;33m:\u001b[0m\u001b[1;33m\u001b[0m\u001b[1;33m\u001b[0m\u001b[0m\n\u001b[0;32m      2\u001b[0m         \u001b[0mprint\u001b[0m\u001b[1;33m(\u001b[0m\u001b[1;33m)\u001b[0m\u001b[1;33m\u001b[0m\u001b[1;33m\u001b[0m\u001b[0m\n\u001b[1;32m----> 3\u001b[1;33m         \u001b[0mprint\u001b[0m\u001b[1;33m(\u001b[0m\u001b[0mi\u001b[0m\u001b[1;33m,\u001b[0m\u001b[0mr\u001b[0m\u001b[1;33m)\u001b[0m\u001b[1;33m\u001b[0m\u001b[1;33m\u001b[0m\u001b[0m\n\u001b[0m",
      "\u001b[1;31mNameError\u001b[0m: name 'i' is not defined"
     ]
    }
   ],
   "source": [
    "for r in records:\n",
    "        print()\n",
    "        print(i,r)"
   ]
  },
  {
   "cell_type": "markdown",
   "metadata": {},
   "source": [
    "putting it all together"
   ]
  },
  {
   "cell_type": "code",
   "execution_count": 40,
   "metadata": {},
   "outputs": [],
   "source": [
    "def get_url(position,location):\n",
    "#     generate url from position and location\n",
    "    template = \"https://www.indeed.com/jobs?q={}&l={}\"\n",
    "    url = template.format(position,location)\n",
    "    return url\n",
    "def get_record(card):\n",
    "    #extract job data from a single rcord\n",
    "    atag = card.h2.a\n",
    "    job_title = atag.get(\"title\")\n",
    "    job_url = 'https://www.indeed.com'+atag.get('href')\n",
    "    company = card.find('span','company').text.strip()\n",
    "    job_location = card.find('div','recJobLoc').get('data-rc-loc')\n",
    "    job_summary = card.find('div','summary').text.strip()\n",
    "    post_date = card.find('span','date').text\n",
    "    today = datetime.today().strftime('%y-%m-%d')\n",
    "    try:\n",
    "        job_salary = card.find('span','salaryText').text.strip()\n",
    "    except AttributeError:\n",
    "        job_salary=\"\"\n",
    "    record = (job_title,job_url,company,job_location,job_summary,post_date,today,job_salary)\n",
    "    return record\n",
    "\n",
    "def main(location,position):\n",
    "#     run the main program routine\n",
    "    records = []\n",
    "    url = get_url(position,location)\n",
    "    #extract job data\n",
    "    while True:    \n",
    "        response = requests.get(url)\n",
    "        soup = bs(response.text,\"html.parser\")\n",
    "        cards = soup.find_all(\"div\",\"jobsearch-SerpJobCard\")\n",
    "\n",
    "        for card in cards:\n",
    "            record = get_record(card)\n",
    "            records.append(record)\n",
    "        try:\n",
    "            url = 'https://www.indeed.com'+soup.find('a',{'aria-label':'Next'}).get('href')\n",
    "        except AttributeError:\n",
    "            break\n",
    "        "
   ]
  },
  {
   "cell_type": "code",
   "execution_count": 41,
   "metadata": {},
   "outputs": [],
   "source": [
    "main('Senior Accountants','Charlotte, NC')"
   ]
  },
  {
   "cell_type": "code",
   "execution_count": 80,
   "metadata": {},
   "outputs": [],
   "source": [
    "import pandas as pd\n"
   ]
  },
  {
   "cell_type": "code",
   "execution_count": 81,
   "metadata": {},
   "outputs": [],
   "source": [
    "df = pd.DataFrame(data=records)"
   ]
  },
  {
   "cell_type": "code",
   "execution_count": 85,
   "metadata": {},
   "outputs": [],
   "source": [
    "df.columns =['JobTitle', 'JobUrl', 'Company', 'Location','Job Summary','Date Posted','Date Extracted','Salary']"
   ]
  },
  {
   "cell_type": "code",
   "execution_count": 91,
   "metadata": {},
   "outputs": [
    {
     "data": {
      "text/html": [
       "<div>\n",
       "<style scoped>\n",
       "    .dataframe tbody tr th:only-of-type {\n",
       "        vertical-align: middle;\n",
       "    }\n",
       "\n",
       "    .dataframe tbody tr th {\n",
       "        vertical-align: top;\n",
       "    }\n",
       "\n",
       "    .dataframe thead th {\n",
       "        text-align: right;\n",
       "    }\n",
       "</style>\n",
       "<table border=\"1\" class=\"dataframe\">\n",
       "  <thead>\n",
       "    <tr style=\"text-align: right;\">\n",
       "      <th></th>\n",
       "      <th>JobTitle</th>\n",
       "      <th>JobUrl</th>\n",
       "      <th>Company</th>\n",
       "      <th>Location</th>\n",
       "      <th>Job Summary</th>\n",
       "      <th>Date Posted</th>\n",
       "      <th>Date Extracted</th>\n",
       "      <th>Salary</th>\n",
       "    </tr>\n",
       "  </thead>\n",
       "  <tbody>\n",
       "    <tr>\n",
       "      <th>0</th>\n",
       "      <td>Senior Accountant</td>\n",
       "      <td>https://www.indeed.com/rc/clk?jk=e8934e1168d9c...</td>\n",
       "      <td>Childress Klein</td>\n",
       "      <td>Charlotte, NC</td>\n",
       "      <td>This positionwill partner with team members an...</td>\n",
       "      <td>30+ days ago</td>\n",
       "      <td>21-03-16</td>\n",
       "      <td></td>\n",
       "    </tr>\n",
       "    <tr>\n",
       "      <th>1</th>\n",
       "      <td>SENIOR ACCOUNTANT</td>\n",
       "      <td>https://www.indeed.com/rc/clk?jk=62cb75daa9592...</td>\n",
       "      <td>CABARRUS COUNTY</td>\n",
       "      <td>Cabarrus County, NC</td>\n",
       "      <td>Prepares various reports, audit work papers, e...</td>\n",
       "      <td>30+ days ago</td>\n",
       "      <td>21-03-16</td>\n",
       "      <td>$57,616 - $65,666 a year</td>\n",
       "    </tr>\n",
       "    <tr>\n",
       "      <th>2</th>\n",
       "      <td>Senior Accountant - Charlotte, NC</td>\n",
       "      <td>https://www.indeed.com/rc/clk?jk=85b3e39701b91...</td>\n",
       "      <td>Dentsply Sirona</td>\n",
       "      <td>Charlotte, NC</td>\n",
       "      <td>Dentsply Sirona’s products provide innovative,...</td>\n",
       "      <td>14 days ago</td>\n",
       "      <td>21-03-16</td>\n",
       "      <td></td>\n",
       "    </tr>\n",
       "    <tr>\n",
       "      <th>3</th>\n",
       "      <td>Senior Accountant - Global Services</td>\n",
       "      <td>https://www.indeed.com/rc/clk?jk=269c2fd02e8ed...</td>\n",
       "      <td>CliftonLarsonAllen</td>\n",
       "      <td>Charlotte, NC</td>\n",
       "      <td>3+ years relative work experience as a staff o...</td>\n",
       "      <td>21 days ago</td>\n",
       "      <td>21-03-16</td>\n",
       "      <td></td>\n",
       "    </tr>\n",
       "    <tr>\n",
       "      <th>4</th>\n",
       "      <td>Senior PE Fund Accountant and Client Service M...</td>\n",
       "      <td>https://www.indeed.com/rc/clk?jk=cfb16cac95ee8...</td>\n",
       "      <td>Apex Fund Services Limited</td>\n",
       "      <td>Charlotte, NC</td>\n",
       "      <td>We are looking for highly motivated individual...</td>\n",
       "      <td>30+ days ago</td>\n",
       "      <td>21-03-16</td>\n",
       "      <td></td>\n",
       "    </tr>\n",
       "  </tbody>\n",
       "</table>\n",
       "</div>"
      ],
      "text/plain": [
       "                                            JobTitle  \\\n",
       "0                                  Senior Accountant   \n",
       "1                                  SENIOR ACCOUNTANT   \n",
       "2                  Senior Accountant - Charlotte, NC   \n",
       "3                Senior Accountant - Global Services   \n",
       "4  Senior PE Fund Accountant and Client Service M...   \n",
       "\n",
       "                                              JobUrl  \\\n",
       "0  https://www.indeed.com/rc/clk?jk=e8934e1168d9c...   \n",
       "1  https://www.indeed.com/rc/clk?jk=62cb75daa9592...   \n",
       "2  https://www.indeed.com/rc/clk?jk=85b3e39701b91...   \n",
       "3  https://www.indeed.com/rc/clk?jk=269c2fd02e8ed...   \n",
       "4  https://www.indeed.com/rc/clk?jk=cfb16cac95ee8...   \n",
       "\n",
       "                      Company             Location  \\\n",
       "0             Childress Klein        Charlotte, NC   \n",
       "1             CABARRUS COUNTY  Cabarrus County, NC   \n",
       "2             Dentsply Sirona        Charlotte, NC   \n",
       "3          CliftonLarsonAllen        Charlotte, NC   \n",
       "4  Apex Fund Services Limited        Charlotte, NC   \n",
       "\n",
       "                                         Job Summary   Date Posted  \\\n",
       "0  This positionwill partner with team members an...  30+ days ago   \n",
       "1  Prepares various reports, audit work papers, e...  30+ days ago   \n",
       "2  Dentsply Sirona’s products provide innovative,...   14 days ago   \n",
       "3  3+ years relative work experience as a staff o...   21 days ago   \n",
       "4  We are looking for highly motivated individual...  30+ days ago   \n",
       "\n",
       "  Date Extracted                    Salary  \n",
       "0       21-03-16                            \n",
       "1       21-03-16  $57,616 - $65,666 a year  \n",
       "2       21-03-16                            \n",
       "3       21-03-16                            \n",
       "4       21-03-16                            "
      ]
     },
     "execution_count": 91,
     "metadata": {},
     "output_type": "execute_result"
    }
   ],
   "source": [
    "df.head()"
   ]
  },
  {
   "cell_type": "code",
   "execution_count": null,
   "metadata": {},
   "outputs": [],
   "source": []
  },
  {
   "cell_type": "markdown",
   "metadata": {},
   "source": [
    "SOLUTION FROM ISREAL DRYER"
   ]
  },
  {
   "cell_type": "code",
   "execution_count": null,
   "metadata": {},
   "outputs": [],
   "source": [
    "from bs4 import BeautifulSoup\n",
    "import requests\n",
    "import csv\n",
    "from time import sleep\n",
    "from random import randint\n",
    "from datetime import datetime\n",
    "\n",
    "headers = {\n",
    "    'accept': 'text/html,application/xhtml+xml,application/xml;q=0.9,image/webp,image/apng,*/*;q=0.8,application/signed-exchange;v=b3;q=0.9',\n",
    "    'accept-encoding': 'gzip, deflate, br',\n",
    "    'accept-language': 'en-US,en;q=0.9',\n",
    "    'cache-control': 'max-age=0',\n",
    "    'sec-fetch-dest': 'document',\n",
    "    'sec-fetch-mode': 'navigate',\n",
    "    'sec-fetch-site': 'none',\n",
    "    'sec-fetch-user': '?1',\n",
    "    'upgrade-insecure-requests': '1',\n",
    "    'user-agent': 'Mozilla/5.0 (Windows NT 10.0; Win64; x64) AppleWebKit/537.36 (KHTML, like Gecko) Chrome/87.0.4280.67 Safari/537.36 Edg/87.0.664.47'\n",
    "}\n",
    "\n",
    "def get_url(position, location):\n",
    "        template = 'https://www.indeed.com/jobs?q={}&l={}'\n",
    "        url = template.format(position, location)\n",
    "        return url\n",
    "\n",
    "def get_record(card):\n",
    "    '''Extract job date from a single record '''\n",
    "    atag = card.h2.a\n",
    "    try:\n",
    "        job_title = atag.get('title')\n",
    "    except AttributeError:\n",
    "        job_title = ''\n",
    "    try:\n",
    "        company = card.find('span', 'company').text.strip()\n",
    "    except AttributeError:\n",
    "        company = ''\n",
    "    try:\n",
    "        location = card.find('div', 'recJobLoc').get('data-rc-loc')\n",
    "    except AttributeError:\n",
    "        location = ''\n",
    "    try:\n",
    "        job_summary = card.find('div', 'summary').text.strip()\n",
    "    except AttributeError:\n",
    "        job_summary = ''\n",
    "    try:\n",
    "        post_date = card.find('span', 'date').text.strip()\n",
    "    except AttributeError:\n",
    "        post_date = ''\n",
    "    try:\n",
    "        salary = card.find('span', 'salarytext').text.strip()\n",
    "    except AttributeError:\n",
    "        salary = ''\n",
    "    \n",
    "    extract_date = datetime.today().strftime('%Y-%m-%d')\n",
    "    job_url = 'https://www.indeed.com' + atag.get('href')\n",
    "    \n",
    "    return (job_title, company, location, job_summary, salary, post_date, extract_date, job_url)\n",
    "\n",
    "def main(position, location):\n",
    "    # Run the main program reouting\n",
    "    records = []  # creating the record list\n",
    "    url = get_url(position, location)  # create the url while passing in the position and location.\n",
    "    \n",
    "    while True:\n",
    "        print(url)\n",
    "        response = requests.get(url, headers=headers)\n",
    "        soup = BeautifulSoup(response.text, 'html.parser')\n",
    "        cards = soup.find_all('div', 'jobsearch-SerpJobCard')\n",
    "\n",
    "        for card in cards:\n",
    "            record = get_record(card)\n",
    "            records.append(record)\n",
    "\n",
    "        try:\n",
    "            url = 'https://www.indeed.com' + soup.find('a', {'aria-label': 'Next'}).get('href')\n",
    "            delay = randint(1, 10)\n",
    "            sleep(delay)\n",
    "        except AttributeError:\n",
    "            break\n",
    "\n",
    "    with open('results.csv', 'w', newline='', encoding='utf-8') as f:\n",
    "        writer = csv.writer(f)\n",
    "        writer.writerow(['Job Title', 'Company', 'Location', 'Salary', 'Posting Date', 'Extract Date', 'Summary', 'Job Url'])\n",
    "        writer.writerows(records)"
   ]
  },
  {
   "cell_type": "code",
   "execution_count": null,
   "metadata": {},
   "outputs": [],
   "source": [
    "acccountants  = main('senior accountant', 'charlotte nc')"
   ]
  }
 ],
 "metadata": {
  "kernelspec": {
   "display_name": "Python 3",
   "language": "python",
   "name": "python3"
  },
  "language_info": {
   "codemirror_mode": {
    "name": "ipython",
    "version": 3
   },
   "file_extension": ".py",
   "mimetype": "text/x-python",
   "name": "python",
   "nbconvert_exporter": "python",
   "pygments_lexer": "ipython3",
   "version": "3.7.4"
  }
 },
 "nbformat": 4,
 "nbformat_minor": 2
}
