{
 "cells": [
  {
   "cell_type": "code",
   "execution_count": 1,
   "metadata": {},
   "outputs": [],
   "source": [
    "import re\n",
    "import requests\n",
    "import csv\n",
    "from bs4 import BeautifulSoup as bs"
   ]
  },
  {
   "cell_type": "code",
   "execution_count": 2,
   "metadata": {},
   "outputs": [],
   "source": [
    "template ='https://news.search.yahoo.com/search?p={}'\n",
    "url = template.format('iphone12+leaked')"
   ]
  },
  {
   "cell_type": "code",
   "execution_count": 3,
   "metadata": {},
   "outputs": [],
   "source": [
    "headers = {\n",
    "    'accept': '*/*',\n",
    "    'accept-encoding': 'gzip, deflate, br',\n",
    "    'accept-language': 'en-US,en;q=0.9',\n",
    "    'referer': 'https://www.google.com',\n",
    "    'user-agent': 'Mozilla/5.0 (Windows NT 10.0; Win64; x64) AppleWebKit/537.36 (KHTML, like Gecko) Chrome/85.0.4183.83 Safari/537.36 Edg/85.0.564.44'\n",
    "}"
   ]
  },
  {
   "cell_type": "code",
   "execution_count": 4,
   "metadata": {},
   "outputs": [],
   "source": [
    "response = requests.get(url,headers=headers)"
   ]
  },
  {
   "cell_type": "code",
   "execution_count": 5,
   "metadata": {},
   "outputs": [],
   "source": [
    "soup = bs(response.text,'html.parser')"
   ]
  },
  {
   "cell_type": "code",
   "execution_count": 6,
   "metadata": {},
   "outputs": [],
   "source": [
    "cards = soup.find_all('div', 'NewsArticle')"
   ]
  },
  {
   "cell_type": "code",
   "execution_count": 7,
   "metadata": {},
   "outputs": [
    {
     "data": {
      "text/plain": [
       "10"
      ]
     },
     "execution_count": 7,
     "metadata": {},
     "output_type": "execute_result"
    }
   ],
   "source": [
    "len(cards)"
   ]
  },
  {
   "cell_type": "markdown",
   "metadata": {},
   "source": [
    "create a prototype model"
   ]
  },
  {
   "cell_type": "code",
   "execution_count": 8,
   "metadata": {},
   "outputs": [],
   "source": [
    "card = cards[0]"
   ]
  },
  {
   "cell_type": "code",
   "execution_count": 9,
   "metadata": {},
   "outputs": [],
   "source": [
    "headlines = card.find('h4','s-title').text"
   ]
  },
  {
   "cell_type": "code",
   "execution_count": 10,
   "metadata": {},
   "outputs": [],
   "source": [
    "source = card.find('span','s-source').text"
   ]
  },
  {
   "cell_type": "code",
   "execution_count": 11,
   "metadata": {},
   "outputs": [],
   "source": [
    "posted = card.find('span','s-time').text.replace('·','').strip()"
   ]
  },
  {
   "cell_type": "code",
   "execution_count": 12,
   "metadata": {},
   "outputs": [],
   "source": [
    "describtion = card.find('p','s-desc').text.strip()"
   ]
  },
  {
   "cell_type": "code",
   "execution_count": 13,
   "metadata": {},
   "outputs": [],
   "source": [
    "raw_url = card.find('a').get('href')"
   ]
  },
  {
   "cell_type": "code",
   "execution_count": 14,
   "metadata": {},
   "outputs": [
    {
     "data": {
      "text/plain": [
       "'https://r.search.yahoo.com/_ylt=AwrC1CgWmFxgRScACjHQtDMD;_ylu=Y29sbwNiZjEEcG9zAzEEdnRpZAMEc2VjA3Ny/RV=2/RE=1616709782/RO=10/RU=https%3a%2f%2fwww.tomsguide.com%2fnews%2fiphone-13-leak-just-revealed-the-smaller-notch-weve-been-waiting-for/RK=2/RS=2nAdYMkcxqFiCkw8MtsTLbQd4RM-'"
      ]
     },
     "execution_count": 14,
     "metadata": {},
     "output_type": "execute_result"
    }
   ],
   "source": [
    "raw_url"
   ]
  },
  {
   "cell_type": "code",
   "execution_count": 15,
   "metadata": {},
   "outputs": [],
   "source": [
    "unquoted_link = requests.utils.unquote(raw_url)"
   ]
  },
  {
   "cell_type": "code",
   "execution_count": 16,
   "metadata": {},
   "outputs": [
    {
     "data": {
      "text/plain": [
       "'https://r.search.yahoo.com/_ylt=AwrC1CgWmFxgRScACjHQtDMD;_ylu=Y29sbwNiZjEEcG9zAzEEdnRpZAMEc2VjA3Ny/RV=2/RE=1616709782/RO=10/RU=https://www.tomsguide.com/news/iphone-13-leak-just-revealed-the-smaller-notch-weve-been-waiting-for/RK=2/RS=2nAdYMkcxqFiCkw8MtsTLbQd4RM-'"
      ]
     },
     "execution_count": 16,
     "metadata": {},
     "output_type": "execute_result"
    }
   ],
   "source": [
    "unquoted_link"
   ]
  },
  {
   "cell_type": "code",
   "execution_count": 17,
   "metadata": {},
   "outputs": [
    {
     "data": {
      "text/plain": [
       "'https://r.search.yahoo.com/_ylt=AwrC1CgWmFxgRScACjHQtDMD;_ylu=Y29sbwNiZjEEcG9zAzEEdnRpZAMEc2VjA3Ny/RV=2/RE=1616709782/RO=10/RU=https%3a%2f%2fwww.tomsguide.com%2fnews%2fiphone-13-leak-just-revealed-the-smaller-notch-weve-been-waiting-for/RK=2/RS=2nAdYMkcxqFiCkw8MtsTLbQd4RM-'"
      ]
     },
     "execution_count": 17,
     "metadata": {},
     "output_type": "execute_result"
    }
   ],
   "source": [
    "raw_url"
   ]
  },
  {
   "cell_type": "code",
   "execution_count": 18,
   "metadata": {},
   "outputs": [],
   "source": [
    "pattern = re.compile(r'RU=(.+)\\/RK')"
   ]
  },
  {
   "cell_type": "code",
   "execution_count": 19,
   "metadata": {},
   "outputs": [],
   "source": [
    "clean_link = re.search(pattern,unquoted_link).group(1)"
   ]
  },
  {
   "cell_type": "code",
   "execution_count": 20,
   "metadata": {},
   "outputs": [
    {
     "data": {
      "text/plain": [
       "'https://www.tomsguide.com/news/iphone-13-leak-just-revealed-the-smaller-notch-weve-been-waiting-for'"
      ]
     },
     "execution_count": 20,
     "metadata": {},
     "output_type": "execute_result"
    }
   ],
   "source": [
    "clean_link"
   ]
  },
  {
   "cell_type": "markdown",
   "metadata": {},
   "source": [
    "get next page"
   ]
  },
  {
   "cell_type": "code",
   "execution_count": 21,
   "metadata": {},
   "outputs": [],
   "source": [
    "url = soup.find('a','next').get('href')"
   ]
  },
  {
   "cell_type": "code",
   "execution_count": 22,
   "metadata": {},
   "outputs": [
    {
     "data": {
      "text/plain": [
       "'https://news.search.yahoo.com/search;_ylt=AwrC1CgWmFxgRScAHjHQtDMD;_ylu=Y29sbwNiZjEEcG9zAzEEdnRpZAMEc2VjA3BhZ2luYXRpb24-?p=iphone12+leaked&b=11&pz=10&bct=0&xargs=0'"
      ]
     },
     "execution_count": 22,
     "metadata": {},
     "output_type": "execute_result"
    }
   ],
   "source": [
    "url"
   ]
  },
  {
   "cell_type": "markdown",
   "metadata": {},
   "source": [
    "generalize the model"
   ]
  },
  {
   "cell_type": "code",
   "execution_count": 103,
   "metadata": {},
   "outputs": [],
   "source": [
    "def get_article(card):\n",
    "    headlines = card.find('h4','s-title').text\n",
    "    source = card.find('span','s-source').text\n",
    "    posted = card.find('span','s-time').text.replace('·','').strip()\n",
    "    describtion = card.find('p','s-desc').text.strip()\n",
    "    raw_url = card.find('a').get('href')\n",
    "    unquoted_link = requests.utils.unquote(raw_url)\n",
    "    clean_link = re.search(pattern,unquoted_link).group(1)\n",
    "    \n",
    "    article = (headlines,source,posted,describtion,clean_link)\n",
    "    return article "
   ]
  },
  {
   "cell_type": "code",
   "execution_count": 104,
   "metadata": {},
   "outputs": [],
   "source": [
    "articles = []\n",
    "links = set()\n",
    "for card in cards:\n",
    "    article = get_article(card)\n",
    "    link = article[-1]\n",
    "    if not link in links:\n",
    "        links.add(link)\n",
    "        articles.append(article)"
   ]
  },
  {
   "cell_type": "markdown",
   "metadata": {},
   "source": [
    "bring it all together"
   ]
  },
  {
   "cell_type": "code",
   "execution_count": 105,
   "metadata": {},
   "outputs": [],
   "source": [
    "import re\n",
    "import csv\n",
    "from time import sleep\n",
    "from bs4 import BeautifulSoup\n",
    "import requests\n",
    "\n",
    "headers = {\n",
    "    'accept': '*/*',\n",
    "    'accept-encoding': 'gzip, deflate, br',\n",
    "    'accept-language': 'en-US,en;q=0.9',\n",
    "    'referer': 'https://www.google.com',\n",
    "    'user-agent': 'Mozilla/5.0 (Windows NT 10.0; Win64; x64) AppleWebKit/537.36 (KHTML, like Gecko) Chrome/85.0.4183.83 Safari/537.36 Edg/85.0.564.44'\n",
    "}\n",
    "\n",
    "def get_article(card):\n",
    "    \"\"\"Extract article information from the raw html\"\"\"\n",
    "    headline = card.find('h4', 's-title').text\n",
    "    source = card.find(\"span\", 's-source').text\n",
    "    posted = card.find('span', 's-time').text.replace('·', '').strip()\n",
    "    description = card.find('p', 's-desc').text.strip()\n",
    "    raw_link = card.find('a').get('href')\n",
    "    unquoted_link = requests.utils.unquote(raw_link)\n",
    "    pattern = re.compile(r'RU=(.+)\\/RK')\n",
    "    clean_link = re.search(pattern, unquoted_link).group(1)\n",
    "    \n",
    "    article = (headline, source, posted, description, clean_link)\n",
    "    return article\n",
    "\n",
    "def get_the_news(search):\n",
    "    \"\"\"Run the main program\"\"\"\n",
    "    template = 'https://news.search.yahoo.com/search?p={}'\n",
    "    url = template.format(search)\n",
    "    articles = []\n",
    "    links = set()\n",
    "    \n",
    "    while True:\n",
    "        response = requests.get(url, headers=headers)\n",
    "        soup = BeautifulSoup(response.text, 'html.parser')\n",
    "        cards = soup.find_all('div', 'NewsArticle')\n",
    "        \n",
    "        # extract articles from page\n",
    "        for card in cards:\n",
    "            article = get_article(card)\n",
    "            link = article[-1]\n",
    "            if not link in links:\n",
    "                links.add(link)\n",
    "                articles.append(article)        \n",
    "                \n",
    "        # find the next page\n",
    "        try:\n",
    "            url = soup.find('a', 'next').get('href')\n",
    "            sleep(1)\n",
    "        except AttributeError:\n",
    "            break\n",
    "            \n",
    "    # save article data\n",
    "    with open('results.csv', 'w', newline='', encoding='utf-8') as f:\n",
    "        writer = csv.writer(f)\n",
    "        writer.writerow(['Headline', 'Source', 'Posted', 'Description', 'Link'])\n",
    "        writer.writerows(articles)\n",
    "        \n",
    "    return articles"
   ]
  },
  {
   "cell_type": "code",
   "execution_count": 107,
   "metadata": {},
   "outputs": [],
   "source": [
    "iphone_12 = get_the_news('iphone 12 leaked')"
   ]
  },
  {
   "cell_type": "code",
   "execution_count": 109,
   "metadata": {},
   "outputs": [
    {
     "data": {
      "text/plain": [
       "[(\"iPhone 13 rumors so far: What we're hearing about release date, specs, price and more\",\n",
       "  'CNET',\n",
       "  '3 days ago',\n",
       "  \"Apple's iPhone 12 lineup has only been on virtual shelves for a few months, and already the mobile...\",\n",
       "  'https://www.cnet.com/news/apple-iphone-13-rumors-so-far-what-were-hearing-about-release-date-specs-price-and-more/'),\n",
       " ('OnePlus 9 — 5 biggest camera upgrades revealed',\n",
       "  \"Tom's Guide\",\n",
       "  '5 days ago',\n",
       "  'Leading up to the OnePlus 9 launch, information about its new revamped camera system continues to leak online. The OnePlus 8T showed that the company...',\n",
       "  'https://www.tomsguide.com/news/oneplus-9-5-biggest-camera-upgrades-revealed'),\n",
       " (\"Apple Promotes iPhone 12 'Ceramic Shield' Display In New 'Cook' Ad\",\n",
       "  'MacRumors',\n",
       "  '4 days ago',\n",
       "  'A new set of renders claims to showcase the design of the upcoming third-generation AirPods, which...',\n",
       "  'https://www.macrumors.com/2021/03/13/iphone-12-cook-ad/'),\n",
       " ('Why Apple Is Accusing Former Employee Of Leaking Product Information',\n",
       "  'Screen Rant',\n",
       "  '5 days ago',\n",
       "  'Apple is suing a former employee for leaks.',\n",
       "  'https://screenrant.com/why-apple-accusing-former-employee-leaking-product-information/'),\n",
       " (\"Daily Authority: Toyota's first EV tease, Canoo, and more tech news today\",\n",
       "  'Android Authority',\n",
       "  '6 days ago',\n",
       "  'Toyota has a March launch of a new EV, Oppo Find X3 Pro happens now, and more tech news you need to know today',\n",
       "  'https://www.androidauthority.com/newsletters/da-march-11-2021/')]"
      ]
     },
     "execution_count": 109,
     "metadata": {},
     "output_type": "execute_result"
    }
   ],
   "source": [
    "iphone_12[:5]"
   ]
  },
  {
   "cell_type": "code",
   "execution_count": null,
   "metadata": {},
   "outputs": [],
   "source": []
  }
 ],
 "metadata": {
  "kernelspec": {
   "display_name": "Python 3",
   "language": "python",
   "name": "python3"
  },
  "language_info": {
   "codemirror_mode": {
    "name": "ipython",
    "version": 3
   },
   "file_extension": ".py",
   "mimetype": "text/x-python",
   "name": "python",
   "nbconvert_exporter": "python",
   "pygments_lexer": "ipython3",
   "version": "3.7.4"
  }
 },
 "nbformat": 4,
 "nbformat_minor": 4
}
