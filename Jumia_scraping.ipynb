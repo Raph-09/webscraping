{
  "nbformat": 4,
  "nbformat_minor": 0,
  "metadata": {
    "colab": {
      "name": "Jumia_scraping.ipynb",
      "provenance": [],
      "collapsed_sections": [],
      "authorship_tag": "ABX9TyOTPT6LL7NIi8gxHVvIIsKj",
      "include_colab_link": true
    },
    "kernelspec": {
      "name": "python3",
      "display_name": "Python 3"
    },
    "language_info": {
      "name": "python"
    }
  },
  "cells": [
    {
      "cell_type": "markdown",
      "metadata": {
        "id": "view-in-github",
        "colab_type": "text"
      },
      "source": [
        "<a href=\"https://colab.research.google.com/github/Raph-09/webscraping/blob/main/Jumia_scraping.ipynb\" target=\"_parent\"><img src=\"https://colab.research.google.com/assets/colab-badge.svg\" alt=\"Open In Colab\"/></a>"
      ]
    },
    {
      "cell_type": "code",
      "metadata": {
        "id": "YuBEZkg8QFEl"
      },
      "source": [
        "from bs4 import BeautifulSoup\n",
        "import requests\n",
        "import csv\n",
        "from time import sleep\n",
        "from random import randint\n",
        "from datetime import datetime"
      ],
      "execution_count": 125,
      "outputs": []
    },
    {
      "cell_type": "code",
      "metadata": {
        "id": "fnSxUo7Jfco8"
      },
      "source": [
        "template = \"https://www.jumia.com.ng/mobile-phones/{}/\""
      ],
      "execution_count": 126,
      "outputs": []
    },
    {
      "cell_type": "code",
      "metadata": {
        "id": "1cX4Wrg_eKbn"
      },
      "source": [
        "url = template.format('samsung')"
      ],
      "execution_count": 127,
      "outputs": []
    },
    {
      "cell_type": "code",
      "metadata": {
        "id": "0n3hDbyfeVQF"
      },
      "source": [
        "headers={\n",
        "'accept':'text/html,application/xhtml+xml,application/xml;q=0.9,image/avif,image/webp,image/apng,*/*;q=0.8,application/signed-exchange;v=b3;q=0.9',\n",
        "'accept-encoding':'gzip, deflate, br',\n",
        "'accept-language':'en-US,en;q=0.9',\n",
        "'user-agent':'Mozilla/5.0 (Windows NT 10.0; Win64; x64) AppleWebKit/537.36 (KHTML, like Gecko) Chrome/89'\n",
        "}"
      ],
      "execution_count": 128,
      "outputs": []
    },
    {
      "cell_type": "code",
      "metadata": {
        "id": "7Ln9y_1ue7X3"
      },
      "source": [
        "response = requests.get(url,headers=headers)"
      ],
      "execution_count": 129,
      "outputs": []
    },
    {
      "cell_type": "code",
      "metadata": {
        "colab": {
          "base_uri": "https://localhost:8080/",
          "height": 35
        },
        "id": "zJQDfBfBfBDc",
        "outputId": "e0f7d890-8adc-4d73-e6a2-f40a83b57a8e"
      },
      "source": [
        "response.reason"
      ],
      "execution_count": 130,
      "outputs": [
        {
          "output_type": "execute_result",
          "data": {
            "application/vnd.google.colaboratory.intrinsic+json": {
              "type": "string"
            },
            "text/plain": [
              "'OK'"
            ]
          },
          "metadata": {
            "tags": []
          },
          "execution_count": 130
        }
      ]
    },
    {
      "cell_type": "code",
      "metadata": {
        "id": "jxQib41qfu-X"
      },
      "source": [
        "soup = bs(response.text,'html.parser')"
      ],
      "execution_count": 131,
      "outputs": []
    },
    {
      "cell_type": "code",
      "metadata": {
        "id": "vZmzsZ83fzmc"
      },
      "source": [
        "cards = soup.find_all('article', 'prd _fb col c-prd')"
      ],
      "execution_count": 132,
      "outputs": []
    },
    {
      "cell_type": "code",
      "metadata": {
        "colab": {
          "base_uri": "https://localhost:8080/"
        },
        "id": "P1g6tAstgVia",
        "outputId": "e51c793f-9b0e-47ba-b7ee-bdadc0ccf862"
      },
      "source": [
        "len(cards)"
      ],
      "execution_count": 133,
      "outputs": [
        {
          "output_type": "execute_result",
          "data": {
            "text/plain": [
              "40"
            ]
          },
          "metadata": {
            "tags": []
          },
          "execution_count": 133
        }
      ]
    },
    {
      "cell_type": "code",
      "metadata": {
        "id": "YZtqSzS_gar_"
      },
      "source": [
        "card = cards[0]"
      ],
      "execution_count": 134,
      "outputs": []
    },
    {
      "cell_type": "code",
      "metadata": {
        "id": "h6hejQ8IgjW2"
      },
      "source": [
        "description = card.find('h3','name').text"
      ],
      "execution_count": 135,
      "outputs": []
    },
    {
      "cell_type": "code",
      "metadata": {
        "id": "K2VEJs_8gzl0"
      },
      "source": [
        "price = card.find('div','prc').text"
      ],
      "execution_count": 136,
      "outputs": []
    },
    {
      "cell_type": "code",
      "metadata": {
        "id": "qUAvppgjhW8_"
      },
      "source": [
        "ratings = card.find('div','stars _s').text"
      ],
      "execution_count": 137,
      "outputs": []
    },
    {
      "cell_type": "code",
      "metadata": {
        "id": "stVmAZMyhpxy"
      },
      "source": [
        "raw_url = card.find('a').get('href')"
      ],
      "execution_count": 138,
      "outputs": []
    },
    {
      "cell_type": "code",
      "metadata": {
        "id": "EDwJsm2ZipQ0"
      },
      "source": [
        "prod_url =\"https://www.jumia.com.ng/\"+raw_url"
      ],
      "execution_count": 139,
      "outputs": []
    },
    {
      "cell_type": "code",
      "metadata": {
        "id": "wQfldXB8jK2w"
      },
      "source": [
        "url = 'https://www.jumia.com.ng/'+soup.find('a',{'aria-label':'Next Page'}).get('href')"
      ],
      "execution_count": 140,
      "outputs": []
    },
    {
      "cell_type": "code",
      "metadata": {
        "id": "sR1KiMPKkFUj"
      },
      "source": [
        "def get_url(product):\n",
        "#     generate url from position and location\n",
        "    template = \"https://www.jumia.com.ng/mobile-phones/{}/\"\n",
        "    url = template.format(product)\n",
        "    return url"
      ],
      "execution_count": 152,
      "outputs": []
    },
    {
      "cell_type": "code",
      "metadata": {
        "id": "2w8H7UoMtkiN"
      },
      "source": [
        "def get_record(card):\n",
        "    '''Extract job date from a single record ''' \n",
        "    try:\n",
        "        description = card.find('h3','name').text\n",
        "    except AttributeError:\n",
        "        description = ''\n",
        "    try:\n",
        "        price = card.find('div','prc').text\n",
        "    except AttributeError:\n",
        "        price = ''\n",
        "    try:\n",
        "        ratings = card.find('div','stars _s').text\n",
        "    except AttributeError:\n",
        "        ratings = ''  \n",
        "    extract_date = datetime.today().strftime('%Y-%m-%d')\n",
        "    prod_url = 'https://www.jumia.com.ng/' + card.find('a').get('href')\n",
        "    \n",
        "    return (description, price, ratings, extract_date, prod_url)\n"
      ],
      "execution_count": 153,
      "outputs": []
    },
    {
      "cell_type": "code",
      "metadata": {
        "id": "ddti7Z1SCraa"
      },
      "source": [
        "\n",
        "def main(product):\n",
        "    # Run the main program reouting\n",
        "    records = []  # creating the record list\n",
        "    url = get_url(product)  # create the url while passing in the position and location.\n",
        "    \n",
        "    while True:\n",
        "        print(url)\n",
        "        response = requests.get(url, headers=headers)\n",
        "        soup = bs(response.text, 'html.parser')\n",
        "        cards = soup.find_all('article', 'prd _fb col c-prd')\n",
        "\n",
        "        for card in cards:\n",
        "            record = get_record(card)\n",
        "            records.append(record)\n",
        "\n",
        "        try:\n",
        "            url = 'https://www.jumia.com.ng/'+soup.find('a',{'aria-label':'Next Page'}).get('href')\n",
        "            delay = randint(1, 10)\n",
        "            sleep(delay)\n",
        "        except (TypeError,AttributeError) as e:\n",
        "            break\n",
        "\n",
        "    with open('results.csv', 'w', newline='', encoding='utf-8') as f:\n",
        "        writer = csv.writer(f)\n",
        "        writer.writerow(['Description', 'Price', 'ratings', 'extract_date', 'prod_url'])\n",
        "        writer.writerows(records)"
      ],
      "execution_count": 156,
      "outputs": []
    },
    {
      "cell_type": "code",
      "metadata": {
        "colab": {
          "base_uri": "https://localhost:8080/"
        },
        "id": "D0RUrxvgD3o-",
        "outputId": "6adbd3e2-9450-4114-a305-c7b2a267a090"
      },
      "source": [
        "main('samsung')"
      ],
      "execution_count": 157,
      "outputs": [
        {
          "output_type": "stream",
          "text": [
            "https://www.jumia.com.ng/mobile-phones/samsung/\n",
            "https://www.jumia.com.ng//mobile-phones/samsung/?page=2#catalog-listing\n",
            "https://www.jumia.com.ng//mobile-phones/samsung/?page=3#catalog-listing\n",
            "https://www.jumia.com.ng//mobile-phones/samsung/?page=4#catalog-listing\n",
            "https://www.jumia.com.ng//mobile-phones/samsung/?page=5#catalog-listing\n",
            "https://www.jumia.com.ng//mobile-phones/samsung/?page=6#catalog-listing\n",
            "https://www.jumia.com.ng//mobile-phones/samsung/?page=7#catalog-listing\n",
            "https://www.jumia.com.ng//mobile-phones/samsung/?page=8#catalog-listing\n",
            "https://www.jumia.com.ng//mobile-phones/samsung/?page=9#catalog-listing\n",
            "https://www.jumia.com.ng//mobile-phones/samsung/?page=10#catalog-listing\n",
            "https://www.jumia.com.ng//mobile-phones/samsung/?page=11#catalog-listing\n",
            "https://www.jumia.com.ng//mobile-phones/samsung/?page=12#catalog-listing\n",
            "https://www.jumia.com.ng//mobile-phones/samsung/?page=13#catalog-listing\n",
            "https://www.jumia.com.ng//mobile-phones/samsung/?page=14#catalog-listing\n",
            "https://www.jumia.com.ng//mobile-phones/samsung/?page=15#catalog-listing\n",
            "https://www.jumia.com.ng//mobile-phones/samsung/?page=16#catalog-listing\n",
            "https://www.jumia.com.ng//mobile-phones/samsung/?page=17#catalog-listing\n",
            "https://www.jumia.com.ng//mobile-phones/samsung/?page=18#catalog-listing\n",
            "https://www.jumia.com.ng//mobile-phones/samsung/?page=19#catalog-listing\n",
            "https://www.jumia.com.ng//mobile-phones/samsung/?page=20#catalog-listing\n",
            "https://www.jumia.com.ng//mobile-phones/samsung/?page=21#catalog-listing\n",
            "https://www.jumia.com.ng//mobile-phones/samsung/?page=22#catalog-listing\n",
            "https://www.jumia.com.ng//mobile-phones/samsung/?page=23#catalog-listing\n",
            "https://www.jumia.com.ng//mobile-phones/samsung/?page=24#catalog-listing\n",
            "https://www.jumia.com.ng//mobile-phones/samsung/?page=25#catalog-listing\n",
            "https://www.jumia.com.ng//mobile-phones/samsung/?page=26#catalog-listing\n",
            "https://www.jumia.com.ng//mobile-phones/samsung/?page=27#catalog-listing\n",
            "https://www.jumia.com.ng//mobile-phones/samsung/?page=28#catalog-listing\n",
            "https://www.jumia.com.ng//mobile-phones/samsung/?page=29#catalog-listing\n",
            "https://www.jumia.com.ng//mobile-phones/samsung/?page=30#catalog-listing\n",
            "https://www.jumia.com.ng//mobile-phones/samsung/?page=31#catalog-listing\n",
            "https://www.jumia.com.ng//mobile-phones/samsung/?page=32#catalog-listing\n",
            "https://www.jumia.com.ng//mobile-phones/samsung/?page=33#catalog-listing\n",
            "https://www.jumia.com.ng//mobile-phones/samsung/?page=34#catalog-listing\n",
            "https://www.jumia.com.ng//mobile-phones/samsung/?page=35#catalog-listing\n",
            "https://www.jumia.com.ng//mobile-phones/samsung/?page=36#catalog-listing\n",
            "https://www.jumia.com.ng//mobile-phones/samsung/?page=37#catalog-listing\n",
            "https://www.jumia.com.ng//mobile-phones/samsung/?page=38#catalog-listing\n",
            "https://www.jumia.com.ng//mobile-phones/samsung/?page=39#catalog-listing\n",
            "https://www.jumia.com.ng//mobile-phones/samsung/?page=40#catalog-listing\n",
            "https://www.jumia.com.ng//mobile-phones/samsung/?page=41#catalog-listing\n",
            "https://www.jumia.com.ng//mobile-phones/samsung/?page=42#catalog-listing\n",
            "https://www.jumia.com.ng//mobile-phones/samsung/?page=43#catalog-listing\n",
            "https://www.jumia.com.ng//mobile-phones/samsung/?page=44#catalog-listing\n",
            "https://www.jumia.com.ng//mobile-phones/samsung/?page=45#catalog-listing\n",
            "https://www.jumia.com.ng//mobile-phones/samsung/?page=46#catalog-listing\n",
            "https://www.jumia.com.ng//mobile-phones/samsung/?page=47#catalog-listing\n",
            "https://www.jumia.com.ng//mobile-phones/samsung/?page=48#catalog-listing\n",
            "https://www.jumia.com.ng//mobile-phones/samsung/?page=49#catalog-listing\n",
            "https://www.jumia.com.ng//mobile-phones/samsung/?page=50#catalog-listing\n"
          ],
          "name": "stdout"
        }
      ]
    },
    {
      "cell_type": "code",
      "metadata": {
        "id": "BLsuNdLyH9yE"
      },
      "source": [
        ""
      ],
      "execution_count": null,
      "outputs": []
    }
  ]
}