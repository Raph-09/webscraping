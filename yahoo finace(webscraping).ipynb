{
 "cells": [
  {
   "cell_type": "code",
   "execution_count": 1,
   "metadata": {},
   "outputs": [],
   "source": [
    "import re\n",
    "import json\n",
    "import csv\n",
    "from bs4 import BeautifulSoup as bs\n",
    "from io import StringIO\n",
    "import requests"
   ]
  },
  {
   "cell_type": "code",
   "execution_count": 2,
   "metadata": {},
   "outputs": [],
   "source": [
    "url_stat = \"https://finance.yahoo.com/quote/{}/key-statistics?p={}\"\n",
    "url_profile = \"https://finance.yahoo.com/quote/{}/profile?p={}\"\n",
    "url_financials = \"https://finance.yahoo.com/quote/{}/financials?p={}\""
   ]
  },
  {
   "cell_type": "code",
   "execution_count": 3,
   "metadata": {},
   "outputs": [],
   "source": [
    "stock = 'F'"
   ]
  },
  {
   "cell_type": "code",
   "execution_count": 4,
   "metadata": {},
   "outputs": [],
   "source": [
    "response = requests.get(url_financials.format(stock,stock))\n",
    "soup = bs(response.text,'html.parser')"
   ]
  },
  {
   "cell_type": "code",
   "execution_count": 5,
   "metadata": {},
   "outputs": [],
   "source": [
    "pattern = re.compile(r'\\s--\\sData\\s--\\s')\n",
    "scripts_data = soup.find('script',text=pattern).contents[0]"
   ]
  },
  {
   "cell_type": "code",
   "execution_count": 6,
   "metadata": {},
   "outputs": [
    {
     "data": {
      "text/plain": [
       "'\\n(function (root) {\\n/* -- Data -- */\\nroot.App || (root.App = {});\\nroot.App.now = 1615908788527;\\nroot.App.main = {\"context\":{\"dispatcher\":{\"stores\":{\"PageStore\":{\"currentPageName\":\"quote\",\"currentEvent\":{\"eventName\":\"NEW_PAGE_SUCCESS\"},\"currentRenderTargetId\":\"default\",\"pagesConfigRaw\":{\"base\":{\"quote\":{\"layout\":{\"bundleName\":\"yahoodotcom-layout.TwoColumnLayout\",\"name\":\"TwoColumnLayout\",\"config\":{\"enableHeaderCollapse\":true,\"additionalBodyWrapperClasses\":\"Bgc($layoutBgColor)!\",\"contentWrapperClas'"
      ]
     },
     "execution_count": 6,
     "metadata": {},
     "output_type": "execute_result"
    }
   ],
   "source": [
    "#begining of the data\n",
    "scripts_data[:500]"
   ]
  },
  {
   "cell_type": "code",
   "execution_count": 9,
   "metadata": {},
   "outputs": [
    {
     "data": {
      "text/plain": [
       "'put\":{\"strings\":1},\"tdv2-applet-sponsored-moments\":{\"strings\":1},\"tdv2-applet-stream\":{\"strings\":1},\"tdv2-applet-stream-hero\":{\"strings\":1},\"tdv2-applet-swisschamp\":{\"strings\":1},\"tdv2-applet-uh\":{\"strings\":1},\"tdv2-applet-userintent\":{\"strings\":1},\"tdv2-applet-video-lightbox\":{\"strings\":1},\"tdv2-applet-video-modal\":{\"strings\":1},\"tdv2-wafer-adfeedback\":{\"strings\":1},\"tdv2-wafer-header\":{\"strings\":1},\"yahoodotcom-layout\":{\"strings\":1}}},\"options\":{\"defaultBundle\":\"td-app-finance\"}}}};\\n}(this));\\n'"
      ]
     },
     "execution_count": 9,
     "metadata": {},
     "output_type": "execute_result"
    }
   ],
   "source": [
    "#end of data\n",
    "scripts_data[-500:]"
   ]
  },
  {
   "cell_type": "code",
   "execution_count": 14,
   "metadata": {},
   "outputs": [],
   "source": [
    "start=scripts_data.find('context')-2\n",
    "json_data=json.loads(scripts_data[start:-12])"
   ]
  },
  {
   "cell_type": "code",
   "execution_count": 17,
   "metadata": {},
   "outputs": [
    {
     "data": {
      "text/plain": [
       "dict_keys(['dispatcher', 'options', 'plugins'])"
      ]
     },
     "execution_count": 17,
     "metadata": {},
     "output_type": "execute_result"
    }
   ],
   "source": [
    "json_data['context'].keys()"
   ]
  },
  {
   "cell_type": "code",
   "execution_count": 25,
   "metadata": {},
   "outputs": [
    {
     "data": {
      "text/plain": [
       "dict_keys(['financialsTemplate', 'cashflowStatementHistory', 'balanceSheetHistoryQuarterly', 'earnings', 'price', 'incomeStatementHistoryQuarterly', 'incomeStatementHistory', 'balanceSheetHistory', 'cashflowStatementHistoryQuarterly', 'quoteType', 'summaryDetail', 'symbol', 'pageViews'])"
      ]
     },
     "execution_count": 25,
     "metadata": {},
     "output_type": "execute_result"
    }
   ],
   "source": [
    "json_data['context']['dispatcher']['stores']['QuoteSummaryStore'].keys()"
   ]
  },
  {
   "cell_type": "code",
   "execution_count": null,
   "metadata": {},
   "outputs": [],
   "source": []
  }
 ],
 "metadata": {
  "kernelspec": {
   "display_name": "Python 3",
   "language": "python",
   "name": "python3"
  },
  "language_info": {
   "codemirror_mode": {
    "name": "ipython",
    "version": 3
   },
   "file_extension": ".py",
   "mimetype": "text/x-python",
   "name": "python",
   "nbconvert_exporter": "python",
   "pygments_lexer": "ipython3",
   "version": "3.8.1"
  }
 },
 "nbformat": 4,
 "nbformat_minor": 4
}
